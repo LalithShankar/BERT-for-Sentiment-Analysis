{
  "nbformat": 4,
  "nbformat_minor": 0,
  "metadata": {
    "colab": {
      "name": "Untitled8.ipynb",
      "provenance": [],
      "collapsed_sections": [],
      "authorship_tag": "ABX9TyMTPulsCAvikwXJbt4NcPf5",
      "include_colab_link": true
    },
    "kernelspec": {
      "name": "python3",
      "display_name": "Python 3"
    }
  },
  "cells": [
    {
      "cell_type": "markdown",
      "metadata": {
        "id": "view-in-github",
        "colab_type": "text"
      },
      "source": [
        "<a href=\"https://colab.research.google.com/github/LalithShankar/BERT-for-Sentiment-Analysis/blob/master/Topic%20extraction%20Part-2.ipynb\" target=\"_parent\"><img src=\"https://colab.research.google.com/assets/colab-badge.svg\" alt=\"Open In Colab\"/></a>"
      ]
    },
    {
      "cell_type": "code",
      "metadata": {
        "id": "MMp_rkagHWO-",
        "colab_type": "code",
        "colab": {}
      },
      "source": [
        "import shorttext\n",
        "import numpy as np\n",
        "import pandas as pd\n",
        "import re"
      ],
      "execution_count": 0,
      "outputs": []
    },
    {
      "cell_type": "code",
      "metadata": {
        "id": "CfKOYlXAgitW",
        "colab_type": "code",
        "colab": {
          "base_uri": "https://localhost:8080/",
          "height": 199
        },
        "outputId": "f5e2f3ea-6e45-4121-c643-344da6f95177"
      },
      "source": [
        "!pip install stem"
      ],
      "execution_count": 20,
      "outputs": [
        {
          "output_type": "stream",
          "text": [
            "Collecting stem\n",
            "\u001b[?25l  Downloading https://files.pythonhosted.org/packages/71/bd/ab05ffcbfe74dca704e860312e00c53ef690b1ddcb23be7a4d9ea4f40260/stem-1.8.0.tar.gz (2.9MB)\n",
            "\u001b[K     |████████████████████████████████| 2.9MB 5.0MB/s \n",
            "\u001b[?25hBuilding wheels for collected packages: stem\n",
            "  Building wheel for stem (setup.py) ... \u001b[?25l\u001b[?25hdone\n",
            "  Created wheel for stem: filename=stem-1.8.0-cp36-none-any.whl size=436038 sha256=a34b08b039b9726c1e2bef35155730d63626e8d8b5e73a4410183cdc4352d188\n",
            "  Stored in directory: /root/.cache/pip/wheels/02/3a/ee/1094b166e029353f892c0b121aa02f48aff5e658396924bc2a\n",
            "Successfully built stem\n",
            "Installing collected packages: stem\n",
            "Successfully installed stem-1.8.0\n"
          ],
          "name": "stdout"
        }
      ]
    },
    {
      "cell_type": "code",
      "metadata": {
        "id": "Jjo0EbyIHaAl",
        "colab_type": "code",
        "colab": {}
      },
      "source": [
        "from stemming.porter import stem\n",
        " "
      ],
      "execution_count": 0,
      "outputs": []
    },
    {
      "cell_type": "code",
      "metadata": {
        "id": "E1hV7Tp3HcR8",
        "colab_type": "code",
        "colab": {
          "base_uri": "https://localhost:8080/",
          "height": 35
        },
        "outputId": "4990f1da-fe3a-4b26-fb78-41544ef5e191"
      },
      "source": [
        "pipeline = [lambda s: re.sub('[^\\w\\s]', '', s),\n",
        "            lambda s: re.sub('[\\d]', '', s),\n",
        "            lambda s: s.lower(),\n",
        "            \n",
        " ]\n",
        "txtpreproceesor = shorttext.utils.text_preprocessor(pipeline)\n",
        "txtpreproceesor"
      ],
      "execution_count": 23,
      "outputs": [
        {
          "output_type": "execute_result",
          "data": {
            "text/plain": [
              "<function shorttext.utils.textpreprocessing.text_preprocessor.<locals>.<lambda>>"
            ]
          },
          "metadata": {
            "tags": []
          },
          "execution_count": 23
        }
      ]
    },
    {
      "cell_type": "code",
      "metadata": {
        "id": "ci0Zfd9GHgXI",
        "colab_type": "code",
        "colab": {
          "base_uri": "https://localhost:8080/",
          "height": 228
        },
        "outputId": "262ff9cc-9f96-40fa-e472-b37891844f60"
      },
      "source": [
        "docx = pd.read_csv('Rule_Based_Sentiment.csv')\n",
        "docx"
      ],
      "execution_count": 24,
      "outputs": [
        {
          "output_type": "execute_result",
          "data": {
            "text/html": [
              "<div>\n",
              "<style scoped>\n",
              "    .dataframe tbody tr th:only-of-type {\n",
              "        vertical-align: middle;\n",
              "    }\n",
              "\n",
              "    .dataframe tbody tr th {\n",
              "        vertical-align: top;\n",
              "    }\n",
              "\n",
              "    .dataframe thead th {\n",
              "        text-align: right;\n",
              "    }\n",
              "</style>\n",
              "<table border=\"1\" class=\"dataframe\">\n",
              "  <thead>\n",
              "    <tr style=\"text-align: right;\">\n",
              "      <th></th>\n",
              "      <th>index</th>\n",
              "      <th>Data</th>\n",
              "      <th>Polarity</th>\n",
              "      <th>Subjectivity</th>\n",
              "    </tr>\n",
              "  </thead>\n",
              "  <tbody>\n",
              "    <tr>\n",
              "      <th>0</th>\n",
              "      <td>0</td>\n",
              "      <td>ADMINISTRATIVE PROCEEDING \\nFile No. 3 - 18279...</td>\n",
              "      <td>-0.083333</td>\n",
              "      <td>0.400000</td>\n",
              "    </tr>\n",
              "    <tr>\n",
              "      <th>1</th>\n",
              "      <td>1</td>\n",
              "      <td>To help detect potential violations of the sec...</td>\n",
              "      <td>-0.041667</td>\n",
              "      <td>0.458333</td>\n",
              "    </tr>\n",
              "    <tr>\n",
              "      <th>2</th>\n",
              "      <td>2</td>\n",
              "      <td>According to the SEC’s order, starting in appr...</td>\n",
              "      <td>-0.068449</td>\n",
              "      <td>0.553209</td>\n",
              "    </tr>\n",
              "    <tr>\n",
              "      <th>3</th>\n",
              "      <td>3</td>\n",
              "      <td>The SEC’s order instituting a settled administ...</td>\n",
              "      <td>-0.100000</td>\n",
              "      <td>0.600000</td>\n",
              "    </tr>\n",
              "    <tr>\n",
              "      <th>4</th>\n",
              "      <td>4</td>\n",
              "      <td>The SEC’s investigation was conducted by Richa...</td>\n",
              "      <td>-0.100000</td>\n",
              "      <td>0.600000</td>\n",
              "    </tr>\n",
              "    <tr>\n",
              "      <th>5</th>\n",
              "      <td>5</td>\n",
              "      <td>The SEC appreciates the assistance of FinCEN a...</td>\n",
              "      <td>-0.050000</td>\n",
              "      <td>0.300000</td>\n",
              "    </tr>\n",
              "  </tbody>\n",
              "</table>\n",
              "</div>"
            ],
            "text/plain": [
              "   index  ... Subjectivity\n",
              "0      0  ...     0.400000\n",
              "1      1  ...     0.458333\n",
              "2      2  ...     0.553209\n",
              "3      3  ...     0.600000\n",
              "4      4  ...     0.600000\n",
              "5      5  ...     0.300000\n",
              "\n",
              "[6 rows x 4 columns]"
            ]
          },
          "metadata": {
            "tags": []
          },
          "execution_count": 24
        }
      ]
    },
    {
      "cell_type": "code",
      "metadata": {
        "id": "1J4BORfdHjEY",
        "colab_type": "code",
        "colab": {}
      },
      "source": [
        "docids = list(docx['index'])\n",
        "corpus = [txtpreproceesor(Data).split(' ') for Data in docx['Data']]\n",
        "# corpus = [txtpreproceesor(Data).split(' ') for Data in usprezdf['Data']]\n",
        "corpus"
      ],
      "execution_count": 0,
      "outputs": []
    },
    {
      "cell_type": "code",
      "metadata": {
        "id": "M6cXqtcAHj9z",
        "colab_type": "code",
        "colab": {
          "base_uri": "https://localhost:8080/",
          "height": 35
        },
        "outputId": "548624c0-75c3-4dd5-bc99-6119a2be0170"
      },
      "source": [
        "dtm = shorttext.utils.DocumentTermMatrix(corpus, docids=docids, tfidf=False)\n",
        "print(dtm)"
      ],
      "execution_count": 26,
      "outputs": [
        {
          "output_type": "stream",
          "text": [
            "<shorttext.utils.dtm.DocumentTermMatrix object at 0x7f136c377898>\n"
          ],
          "name": "stdout"
        }
      ]
    },
    {
      "cell_type": "code",
      "metadata": {
        "id": "wS9MLxvhHnWL",
        "colab_type": "code",
        "colab": {}
      },
      "source": [
        "dtm.get_doc_tokens('paul')"
      ],
      "execution_count": 0,
      "outputs": []
    },
    {
      "cell_type": "code",
      "metadata": {
        "id": "M7H7eXJdHoFx",
        "colab_type": "code",
        "colab": {}
      },
      "source": [
        "dtm.get_doc_frequency(stem('change'))"
      ],
      "execution_count": 0,
      "outputs": []
    },
    {
      "cell_type": "code",
      "metadata": {
        "id": "GkI93WoGHsPT",
        "colab_type": "code",
        "colab": {}
      },
      "source": [
        "pip install gensimpip install gensim"
      ],
      "execution_count": 0,
      "outputs": []
    },
    {
      "cell_type": "code",
      "metadata": {
        "id": "mVnQQ6unHtom",
        "colab_type": "code",
        "colab": {}
      },
      "source": [
        "from gensim import matutils, models\n",
        "import scipy.sparse"
      ],
      "execution_count": 0,
      "outputs": []
    },
    {
      "cell_type": "code",
      "metadata": {
        "id": "rFIj3aNAHvnh",
        "colab_type": "code",
        "colab": {}
      },
      "source": [
        "tdm = docx.transpose()\n",
        "tdm.head()"
      ],
      "execution_count": 0,
      "outputs": []
    },
    {
      "cell_type": "code",
      "metadata": {
        "id": "yDdMPWwHHxl5",
        "colab_type": "code",
        "colab": {}
      },
      "source": [
        "from nltk import word_tokenize, pos_tag\n",
        "\n",
        "def nouns(text):\n",
        "    '''Given a string of text, tokenize the text and pull out only the nouns.'''\n",
        "    is_noun = lambda pos: pos[:2] == 'NN'\n",
        "    tokenized = word_tokenize(text)\n",
        "    all_nouns = [word for (word, pos) in pos_tag(tokenized) if is_noun(pos)] \n",
        "    return ' '.join(all_nouns)"
      ],
      "execution_count": 0,
      "outputs": []
    },
    {
      "cell_type": "code",
      "metadata": {
        "id": "wQrAslwnH1x1",
        "colab_type": "code",
        "colab": {
          "base_uri": "https://localhost:8080/",
          "height": 145
        },
        "outputId": "396a15ab-0aab-4d03-9f47-8ba53eb42532"
      },
      "source": [
        "import nltk\n",
        "nltk.download('averaged_perceptron_tagger')\n",
        "nltk.download('punkt')"
      ],
      "execution_count": 32,
      "outputs": [
        {
          "output_type": "stream",
          "text": [
            "[nltk_data] Downloading package averaged_perceptron_tagger to\n",
            "[nltk_data]     /root/nltk_data...\n",
            "[nltk_data]   Package averaged_perceptron_tagger is already up-to-\n",
            "[nltk_data]       date!\n",
            "[nltk_data] Downloading package punkt to /root/nltk_data...\n",
            "[nltk_data]   Unzipping tokenizers/punkt.zip.\n"
          ],
          "name": "stdout"
        },
        {
          "output_type": "execute_result",
          "data": {
            "text/plain": [
              "True"
            ]
          },
          "metadata": {
            "tags": []
          },
          "execution_count": 32
        }
      ]
    },
    {
      "cell_type": "code",
      "metadata": {
        "id": "lS4b6OlfH33G",
        "colab_type": "code",
        "colab": {
          "base_uri": "https://localhost:8080/",
          "height": 228
        },
        "outputId": "d82eaf18-8624-40ab-ef58-4b837995468b"
      },
      "source": [
        "\n",
        "data_nouns = pd.DataFrame(docx.Data.apply(nouns))\n",
        "data_nouns"
      ],
      "execution_count": 33,
      "outputs": [
        {
          "output_type": "execute_result",
          "data": {
            "text/html": [
              "<div>\n",
              "<style scoped>\n",
              "    .dataframe tbody tr th:only-of-type {\n",
              "        vertical-align: middle;\n",
              "    }\n",
              "\n",
              "    .dataframe tbody tr th {\n",
              "        vertical-align: top;\n",
              "    }\n",
              "\n",
              "    .dataframe thead th {\n",
              "        text-align: right;\n",
              "    }\n",
              "</style>\n",
              "<table border=\"1\" class=\"dataframe\">\n",
              "  <thead>\n",
              "    <tr style=\"text-align: right;\">\n",
              "      <th></th>\n",
              "      <th>Data</th>\n",
              "    </tr>\n",
              "  </thead>\n",
              "  <tbody>\n",
              "    <tr>\n",
              "      <th>0</th>\n",
              "      <td>PROCEEDING File No SEC Charges Wells Fargo Adv...</td>\n",
              "    </tr>\n",
              "    <tr>\n",
              "      <th>1</th>\n",
              "      <td>violations securities laws money violations Ba...</td>\n",
              "    </tr>\n",
              "    <tr>\n",
              "      <th>2</th>\n",
              "      <td>SEC ’ s order March management Wells Fargo Adv...</td>\n",
              "    </tr>\n",
              "    <tr>\n",
              "      <th>3</th>\n",
              "      <td>SEC ’ order proceeding Wells Fargo Advisors Se...</td>\n",
              "    </tr>\n",
              "    <tr>\n",
              "      <th>4</th>\n",
              "      <td>SEC ’ investigation Richard G. Stoltz Paul Men...</td>\n",
              "    </tr>\n",
              "    <tr>\n",
              "      <th>5</th>\n",
              "      <td>SEC assistance FinCEN Financial Industry Regul...</td>\n",
              "    </tr>\n",
              "  </tbody>\n",
              "</table>\n",
              "</div>"
            ],
            "text/plain": [
              "                                                Data\n",
              "0  PROCEEDING File No SEC Charges Wells Fargo Adv...\n",
              "1  violations securities laws money violations Ba...\n",
              "2  SEC ’ s order March management Wells Fargo Adv...\n",
              "3  SEC ’ order proceeding Wells Fargo Advisors Se...\n",
              "4  SEC ’ investigation Richard G. Stoltz Paul Men...\n",
              "5  SEC assistance FinCEN Financial Industry Regul..."
            ]
          },
          "metadata": {
            "tags": []
          },
          "execution_count": 33
        }
      ]
    },
    {
      "cell_type": "code",
      "metadata": {
        "id": "ymMW5FkJH42D",
        "colab_type": "code",
        "colab": {}
      },
      "source": [
        "# Create a new document-term matrix using only nouns\n",
        "from sklearn.feature_extraction import text\n",
        "from sklearn.feature_extraction.text import CountVectorizer\n",
        "\n",
        "# Re-add the additional stop words since we are recreating the document-term matrix\n",
        "add_stop_words = ['like', 'im', 'know', 'just', 'dont', 'thats', 'right', 'people',\n",
        "                  'youre', 'got', 'gonna', 'time', 'think', 'yeah', 'said']\n",
        "stop_words = text.ENGLISH_STOP_WORDS.union(add_stop_words)\n",
        "stop_words\n"
      ],
      "execution_count": 0,
      "outputs": []
    },
    {
      "cell_type": "code",
      "metadata": {
        "id": "5YkiGNWTRIb-",
        "colab_type": "code",
        "colab": {}
      },
      "source": [
        "# Recreate a document-term matrix with only nouns\n",
        "cvn = CountVectorizer(stop_words=stop_words)\n",
        "data_cvn = cvn.fit_transform(data_nouns.Data)\n",
        "data_dtmn = pd.DataFrame(data_cvn.toarray(), columns=cvn.get_feature_names())\n",
        "data_dtmn.index = data_nouns.index\n",
        "data_dtmn[]"
      ],
      "execution_count": 0,
      "outputs": []
    },
    {
      "cell_type": "code",
      "metadata": {
        "id": "4woQXEdJH66V",
        "colab_type": "code",
        "colab": {
          "base_uri": "https://localhost:8080/",
          "height": 35
        },
        "outputId": "5b5e48fd-edce-4d51-f01d-4d3a3e9b7b94"
      },
      "source": [
        "# Create the gensim corpus\n",
        "corpusn = matutils.Sparse2Corpus(scipy.sparse.csr_matrix(data_dtmn.transpose()))\n",
        "print(corpusn)\n"
      ],
      "execution_count": 60,
      "outputs": [
        {
          "output_type": "stream",
          "text": [
            "<gensim.matutils.Sparse2Corpus object at 0x7f136412a908>\n"
          ],
          "name": "stdout"
        }
      ]
    },
    {
      "cell_type": "code",
      "metadata": {
        "id": "m_ALMOeHUga5",
        "colab_type": "code",
        "colab": {}
      },
      "source": [
        "import pickle"
      ],
      "execution_count": 0,
      "outputs": []
    },
    {
      "cell_type": "code",
      "metadata": {
        "id": "QwkQvtC8UFGl",
        "colab_type": "code",
        "colab": {}
      },
      "source": [
        "cv = pickle.load(open(\"cv_stop.pkl\", \"rb\"))"
      ],
      "execution_count": 0,
      "outputs": []
    },
    {
      "cell_type": "code",
      "metadata": {
        "id": "CWY_CMRhRjZu",
        "colab_type": "code",
        "colab": {}
      },
      "source": [
        "# Create the vocabulary dictionary\n",
        "id2wordn = dict((v, k) for k, v in cvn.vocabulary_.items())\n",
        "id2wordn"
      ],
      "execution_count": 0,
      "outputs": []
    },
    {
      "cell_type": "code",
      "metadata": {
        "id": "DStMYHuMH8kz",
        "colab_type": "code",
        "colab": {
          "base_uri": "https://localhost:8080/",
          "height": 110
        },
        "outputId": "fbd7a766-a3ac-4d09-844d-e27fd679948b"
      },
      "source": [
        "# Let's start with 2 topics\n",
        "ldan = models.LdaModel(corpus=corpusn, num_topics=2, id2word=id2wordn, passes=10)\n",
        "ldan.print_topics()"
      ],
      "execution_count": 50,
      "outputs": [
        {
          "output_type": "execute_result",
          "data": {
            "text/plain": [
              "[(0,\n",
              "  '0.039*\"fargo\" + 0.039*\"wells\" + 0.039*\"activity\" + 0.039*\"advisors\" + 0.039*\"sar\" + 0.033*\"sec\" + 0.032*\"sars\" + 0.026*\"order\" + 0.018*\"firm\" + 0.018*\"investigators\"'),\n",
              " (1,\n",
              "  '0.040*\"activity\" + 0.033*\"sars\" + 0.026*\"broker\" + 0.026*\"fincen\" + 0.026*\"sar\" + 0.026*\"advisors\" + 0.025*\"wells\" + 0.025*\"fargo\" + 0.018*\"securities\" + 0.018*\"dealers\"')]"
            ]
          },
          "metadata": {
            "tags": []
          },
          "execution_count": 50
        }
      ]
    },
    {
      "cell_type": "code",
      "metadata": {
        "id": "zqtlif8jH_5X",
        "colab_type": "code",
        "colab": {
          "base_uri": "https://localhost:8080/",
          "height": 146
        },
        "outputId": "9c703068-8d6b-4434-a273-2fd03e8a0cbd"
      },
      "source": [
        "# Let's try topics = 3\n",
        "ldan = models.LdaModel(corpus=corpusn, num_topics=3, id2word=id2wordn, passes=10)\n",
        "ldan.print_topics()"
      ],
      "execution_count": 51,
      "outputs": [
        {
          "output_type": "execute_result",
          "data": {
            "text/plain": [
              "[(0,\n",
              "  '0.073*\"activity\" + 0.073*\"sar\" + 0.059*\"sars\" + 0.032*\"fargo\" + 0.032*\"wells\" + 0.032*\"advisors\" + 0.032*\"investigators\" + 0.032*\"reviews\" + 0.032*\"firm\" + 0.018*\"order\"'),\n",
              " (1,\n",
              "  '0.035*\"sars\" + 0.035*\"activity\" + 0.034*\"sar\" + 0.024*\"fincen\" + 0.024*\"broker\" + 0.024*\"bsa\" + 0.024*\"days\" + 0.024*\"violations\" + 0.024*\"dealers\" + 0.024*\"paul\"'),\n",
              " (2,\n",
              "  '0.059*\"advisors\" + 0.059*\"fargo\" + 0.059*\"wells\" + 0.040*\"sec\" + 0.031*\"order\" + 0.022*\"securities\" + 0.022*\"charges\" + 0.022*\"activity\" + 0.022*\"exchange\" + 0.022*\"proceeding\"')]"
            ]
          },
          "metadata": {
            "tags": []
          },
          "execution_count": 51
        }
      ]
    },
    {
      "cell_type": "code",
      "metadata": {
        "id": "qlV5LQv-IB8Z",
        "colab_type": "code",
        "colab": {
          "base_uri": "https://localhost:8080/",
          "height": 183
        },
        "outputId": "6847297d-af8b-49f2-c0e2-b22976386c53"
      },
      "source": [
        "# Let's try 4 topics\n",
        "ldan = models.LdaModel(corpus=corpusn, num_topics=4, id2word=id2wordn, passes=10)\n",
        "ldan.print_topics()"
      ],
      "execution_count": 52,
      "outputs": [
        {
          "output_type": "execute_result",
          "data": {
            "text/plain": [
              "[(0,\n",
              "  '0.058*\"activity\" + 0.058*\"sar\" + 0.047*\"sars\" + 0.025*\"investigation\" + 0.025*\"mensheha\" + 0.025*\"paul\" + 0.025*\"sec\" + 0.025*\"reviews\" + 0.025*\"firm\" + 0.025*\"investigators\"'),\n",
              " (1,\n",
              "  '0.051*\"activity\" + 0.041*\"sars\" + 0.032*\"sar\" + 0.031*\"wells\" + 0.031*\"advisors\" + 0.031*\"fargo\" + 0.031*\"broker\" + 0.022*\"fincen\" + 0.022*\"violations\" + 0.022*\"days\"'),\n",
              " (2,\n",
              "  '0.038*\"sec\" + 0.038*\"order\" + 0.037*\"financial\" + 0.037*\"industry\" + 0.037*\"regulatory\" + 0.037*\"authority\" + 0.037*\"assistance\" + 0.037*\"fincen\" + 0.009*\"advisors\" + 0.009*\"wells\"'),\n",
              " (3,\n",
              "  '0.065*\"fargo\" + 0.065*\"wells\" + 0.065*\"advisors\" + 0.045*\"sec\" + 0.045*\"order\" + 0.025*\"proceeding\" + 0.025*\"securities\" + 0.025*\"exchange\" + 0.025*\"act\" + 0.025*\"section\"')]"
            ]
          },
          "metadata": {
            "tags": []
          },
          "execution_count": 52
        }
      ]
    },
    {
      "cell_type": "code",
      "metadata": {
        "id": "q_FPoLg8ICc_",
        "colab_type": "code",
        "colab": {}
      },
      "source": [
        "# Let's create a function to pull out nouns from a string of text\n",
        "def nouns_adj(text):\n",
        "    '''Given a string of text, tokenize the text and pull out only the nouns and adjectives.'''\n",
        "    is_noun_adj = lambda pos: pos[:2] == 'NN' or pos[:2] == 'JJ'\n",
        "    tokenized = word_tokenize(text)\n",
        "    nouns_adj = [word for (word, pos) in pos_tag(tokenized) if is_noun_adj(pos)] \n",
        "    return ' '.join(nouns_adj)\n"
      ],
      "execution_count": 0,
      "outputs": []
    },
    {
      "cell_type": "code",
      "metadata": {
        "id": "IMMPFPrDIGY3",
        "colab_type": "code",
        "colab": {}
      },
      "source": [
        "# Apply the nouns function to the transcripts to filter only on nouns\n",
        "data_nouns_adj = pd.DataFrame(docx.Data.apply(nouns_adj))\n",
        "data_nouns_adj"
      ],
      "execution_count": 0,
      "outputs": []
    },
    {
      "cell_type": "code",
      "metadata": {
        "id": "hg7Ji6C2IG-x",
        "colab_type": "code",
        "colab": {}
      },
      "source": [
        "# Create a new document-term matrix using only nouns and adjectives, also remove common words with max_df\n",
        "cvna = CountVectorizer(stop_words=stop_words, max_df=.8)\n",
        "data_cvna = cvna.fit_transform(data_nouns_adj.Data)\n",
        "data_dtmna = pd.DataFrame(data_cvna.toarray(), columns=cvna.get_feature_names())\n",
        "data_dtmna.index = data_nouns_adj.index\n",
        "data_dtmna"
      ],
      "execution_count": 0,
      "outputs": []
    },
    {
      "cell_type": "code",
      "metadata": {
        "id": "KAWWkT3xII0n",
        "colab_type": "code",
        "colab": {}
      },
      "source": [
        "# Create the gensim corpus\n",
        "corpusna = matutils.Sparse2Corpus(scipy.sparse.csr_matrix(data_dtmna.transpose()))\n",
        "\n",
        "# Create the vocabulary dictionary\n",
        "id2wordna = dict((v, k) for k, v in cvna.vocabulary_.items())"
      ],
      "execution_count": 0,
      "outputs": []
    },
    {
      "cell_type": "code",
      "metadata": {
        "id": "rpDxBlNNIK7v",
        "colab_type": "code",
        "colab": {
          "base_uri": "https://localhost:8080/",
          "height": 110
        },
        "outputId": "5bbe0149-a86a-4537-a1c6-f5fe25c754a6"
      },
      "source": [
        "# Let's start with 2 topics\n",
        "ldana = models.LdaModel(corpus=corpusna, num_topics=2, id2word=id2wordna, passes=10)\n",
        "ldana.print_topics()"
      ],
      "execution_count": 65,
      "outputs": [
        {
          "output_type": "execute_result",
          "data": {
            "text/plain": [
              "[(0,\n",
              "  '0.041*\"advisors\" + 0.041*\"fargo\" + 0.041*\"wells\" + 0.036*\"activity\" + 0.026*\"sar\" + 0.026*\"sars\" + 0.017*\"order\" + 0.012*\"cease\" + 0.012*\"desist\" + 0.012*\"exchange\"'),\n",
              " (1,\n",
              "  '0.031*\"sars\" + 0.031*\"activity\" + 0.031*\"sar\" + 0.031*\"broker\" + 0.030*\"fincen\" + 0.022*\"suspicious\" + 0.022*\"previously\" + 0.022*\"dealers\" + 0.022*\"filing\" + 0.022*\"violations\"')]"
            ]
          },
          "metadata": {
            "tags": []
          },
          "execution_count": 65
        }
      ]
    },
    {
      "cell_type": "code",
      "metadata": {
        "id": "wO7ogAH4IOOL",
        "colab_type": "code",
        "colab": {}
      },
      "source": [
        "# Let's try 3 topics\n",
        "ldana = models.LdaModel(corpus=corpusna, num_topics=3, id2word=id2wordna, passes=10)\n",
        "ldana.print_topics()"
      ],
      "execution_count": 0,
      "outputs": []
    },
    {
      "cell_type": "code",
      "metadata": {
        "id": "lxqdYCyZIO3u",
        "colab_type": "code",
        "colab": {}
      },
      "source": [
        "# Let's try 4 topics\n",
        "ldana = models.LdaModel(corpus=corpusna, num_topics=4, id2word=id2wordna, passes=10)\n",
        "ldana.print_topics()"
      ],
      "execution_count": 0,
      "outputs": []
    },
    {
      "cell_type": "code",
      "metadata": {
        "id": "-OFeyZ0yIQnD",
        "colab_type": "code",
        "colab": {
          "base_uri": "https://localhost:8080/",
          "height": 183
        },
        "outputId": "722d1189-c4cd-4504-dc1e-739897d85deb"
      },
      "source": [
        "# Our final LDA model (for now)\n",
        "ldana = models.LdaModel(corpus=corpusna, num_topics=4, id2word=id2wordna, passes=80)\n",
        "ldana.print_topics()"
      ],
      "execution_count": 84,
      "outputs": [
        {
          "output_type": "execute_result",
          "data": {
            "text/plain": [
              "[(0,\n",
              "  '0.042*\"broker\" + 0.042*\"sars\" + 0.042*\"sar\" + 0.042*\"activity\" + 0.029*\"fincen\" + 0.029*\"suspicious\" + 0.029*\"dealers\" + 0.029*\"days\" + 0.029*\"previously\" + 0.029*\"bsa\"'),\n",
              " (1,\n",
              "  '0.037*\"paul\" + 0.037*\"mensheha\" + 0.037*\"investigation\" + 0.021*\"hoffmeyer\" + 0.021*\"george\" + 0.021*\"stoltz\" + 0.021*\"chicago\" + 0.021*\"regional\" + 0.021*\"carlson\" + 0.021*\"spicher\"'),\n",
              " (2,\n",
              "  '0.008*\"order\" + 0.008*\"regulatory\" + 0.008*\"financial\" + 0.008*\"fincen\" + 0.008*\"assistance\" + 0.008*\"industry\" + 0.008*\"authority\" + 0.008*\"act\" + 0.008*\"administrative\" + 0.008*\"securities\"'),\n",
              " (3,\n",
              "  '0.054*\"fargo\" + 0.054*\"wells\" + 0.054*\"advisors\" + 0.047*\"activity\" + 0.034*\"sar\" + 0.034*\"sars\" + 0.021*\"order\" + 0.015*\"investigators\" + 0.015*\"firm\" + 0.015*\"reviews\"')]"
            ]
          },
          "metadata": {
            "tags": []
          },
          "execution_count": 84
        }
      ]
    },
    {
      "cell_type": "code",
      "metadata": {
        "id": "dXhtgJcTITrg",
        "colab_type": "code",
        "colab": {
          "base_uri": "https://localhost:8080/",
          "height": 189
        },
        "outputId": "22da4ceb-2e53-4443-d550-f4da40b4b44f"
      },
      "source": [
        "\n",
        "# Let's take a look at which topics each transcript contains\n",
        "corpus_transformed = ldana[corpusna]\n",
        "d = list(corpus_transformed,data_dtmna.index)"
      ],
      "execution_count": 89,
      "outputs": [
        {
          "output_type": "error",
          "ename": "TypeError",
          "evalue": "ignored",
          "traceback": [
            "\u001b[0;31m---------------------------------------------------------------------------\u001b[0m",
            "\u001b[0;31mTypeError\u001b[0m                                 Traceback (most recent call last)",
            "\u001b[0;32m<ipython-input-89-eb53ca306e34>\u001b[0m in \u001b[0;36m<module>\u001b[0;34m()\u001b[0m\n\u001b[1;32m      1\u001b[0m \u001b[0mcorpus_transformed\u001b[0m \u001b[0;34m=\u001b[0m \u001b[0mldana\u001b[0m\u001b[0;34m[\u001b[0m\u001b[0mcorpusna\u001b[0m\u001b[0;34m]\u001b[0m\u001b[0;34m\u001b[0m\u001b[0;34m\u001b[0m\u001b[0m\n\u001b[0;32m----> 2\u001b[0;31m \u001b[0md\u001b[0m \u001b[0;34m=\u001b[0m \u001b[0mlist\u001b[0m\u001b[0;34m(\u001b[0m\u001b[0mcorpus_transformed\u001b[0m\u001b[0;34m,\u001b[0m\u001b[0mdata_dtmna\u001b[0m\u001b[0;34m.\u001b[0m\u001b[0mindex\u001b[0m\u001b[0;34m)\u001b[0m\u001b[0;34m\u001b[0m\u001b[0;34m\u001b[0m\u001b[0m\n\u001b[0m",
            "\u001b[0;31mTypeError\u001b[0m: list() takes at most 1 argument (2 given)"
          ]
        }
      ]
    },
    {
      "cell_type": "code",
      "metadata": {
        "id": "UuHNvvnsdgNT",
        "colab_type": "code",
        "colab": {
          "base_uri": "https://localhost:8080/",
          "height": 262
        },
        "outputId": "e7caa6c3-ac32-4b79-a9b7-b53e96ad27a6"
      },
      "source": [
        "\n",
        "# Let's take a look at which topics each transcript contains\n",
        "corpus_transformed = ldana[corpusna]\n",
        "d = list(zip([a for [(a, b)] in corpus_transformed], data_dtmna.index))"
      ],
      "execution_count": 88,
      "outputs": [
        {
          "output_type": "error",
          "ename": "ValueError",
          "evalue": "ignored",
          "traceback": [
            "\u001b[0;31m---------------------------------------------------------------------------\u001b[0m",
            "\u001b[0;31mValueError\u001b[0m                                Traceback (most recent call last)",
            "\u001b[0;32m<ipython-input-88-b29703ace14f>\u001b[0m in \u001b[0;36m<module>\u001b[0;34m()\u001b[0m\n\u001b[1;32m      1\u001b[0m \u001b[0mcorpus_transformed\u001b[0m \u001b[0;34m=\u001b[0m \u001b[0mldana\u001b[0m\u001b[0;34m[\u001b[0m\u001b[0mcorpusna\u001b[0m\u001b[0;34m]\u001b[0m\u001b[0;34m\u001b[0m\u001b[0;34m\u001b[0m\u001b[0m\n\u001b[0;32m----> 2\u001b[0;31m \u001b[0md\u001b[0m \u001b[0;34m=\u001b[0m \u001b[0mlist\u001b[0m\u001b[0;34m(\u001b[0m\u001b[0mzip\u001b[0m\u001b[0;34m(\u001b[0m\u001b[0;34m[\u001b[0m\u001b[0ma\u001b[0m \u001b[0;32mfor\u001b[0m \u001b[0;34m[\u001b[0m\u001b[0;34m(\u001b[0m\u001b[0ma\u001b[0m\u001b[0;34m,\u001b[0m \u001b[0mb\u001b[0m\u001b[0;34m)\u001b[0m\u001b[0;34m]\u001b[0m \u001b[0;32min\u001b[0m \u001b[0mcorpus_transformed\u001b[0m\u001b[0;34m]\u001b[0m\u001b[0;34m)\u001b[0m\u001b[0;34m)\u001b[0m\u001b[0;34m\u001b[0m\u001b[0;34m\u001b[0m\u001b[0m\n\u001b[0m",
            "\u001b[0;32m<ipython-input-88-b29703ace14f>\u001b[0m in \u001b[0;36m<listcomp>\u001b[0;34m(.0)\u001b[0m\n\u001b[1;32m      1\u001b[0m \u001b[0mcorpus_transformed\u001b[0m \u001b[0;34m=\u001b[0m \u001b[0mldana\u001b[0m\u001b[0;34m[\u001b[0m\u001b[0mcorpusna\u001b[0m\u001b[0;34m]\u001b[0m\u001b[0;34m\u001b[0m\u001b[0;34m\u001b[0m\u001b[0m\n\u001b[0;32m----> 2\u001b[0;31m \u001b[0md\u001b[0m \u001b[0;34m=\u001b[0m \u001b[0mlist\u001b[0m\u001b[0;34m(\u001b[0m\u001b[0mzip\u001b[0m\u001b[0;34m(\u001b[0m\u001b[0;34m[\u001b[0m\u001b[0ma\u001b[0m \u001b[0;32mfor\u001b[0m \u001b[0;34m[\u001b[0m\u001b[0;34m(\u001b[0m\u001b[0ma\u001b[0m\u001b[0;34m,\u001b[0m \u001b[0mb\u001b[0m\u001b[0;34m)\u001b[0m\u001b[0;34m]\u001b[0m \u001b[0;32min\u001b[0m \u001b[0mcorpus_transformed\u001b[0m\u001b[0;34m]\u001b[0m\u001b[0;34m)\u001b[0m\u001b[0;34m)\u001b[0m\u001b[0;34m\u001b[0m\u001b[0;34m\u001b[0m\u001b[0m\n\u001b[0m",
            "\u001b[0;31mValueError\u001b[0m: too many values to unpack (expected 1)"
          ]
        }
      ]
    },
    {
      "cell_type": "code",
      "metadata": {
        "id": "1NkyZ-rddrSa",
        "colab_type": "code",
        "colab": {
          "base_uri": "https://localhost:8080/",
          "height": 217
        },
        "outputId": "fe76a28e-47fa-431f-dca7-6a71cb681ac0"
      },
      "source": [
        "d"
      ],
      "execution_count": 78,
      "outputs": [
        {
          "output_type": "execute_result",
          "data": {
            "text/plain": [
              "[[(4, 0.9818443)],\n",
              " [(3, 0.982969)],\n",
              " [(2, 0.8255362), (4, 0.1605595)],\n",
              " [(4, 0.97473747)],\n",
              " [(0, 0.9666658)],\n",
              " [(0, 0.020833686),\n",
              "  (1, 0.020834122),\n",
              "  (2, 0.020848554),\n",
              "  (3, 0.020877931),\n",
              "  (4, 0.020865232),\n",
              "  (5, 0.89574045)]]"
            ]
          },
          "metadata": {
            "tags": []
          },
          "execution_count": 78
        }
      ]
    },
    {
      "cell_type": "code",
      "metadata": {
        "id": "F4Q01h_hd76i",
        "colab_type": "code",
        "colab": {}
      },
      "source": [
        "cor=list(corpus_transformed)\n",
        "cor.append(data_dtmna.index)"
      ],
      "execution_count": 0,
      "outputs": []
    },
    {
      "cell_type": "code",
      "metadata": {
        "id": "QKf4tfh0jbl_",
        "colab_type": "code",
        "colab": {
          "base_uri": "https://localhost:8080/",
          "height": 290
        },
        "outputId": "abf3f2c4-fa5d-4a00-a69d-98328af07e43"
      },
      "source": [
        ""
      ],
      "execution_count": 93,
      "outputs": [
        {
          "output_type": "execute_result",
          "data": {
            "text/plain": [
              "[[(3, 0.98348296)],\n",
              " [(0, 0.9845643)],\n",
              " [(3, 0.98422164)],\n",
              " [(3, 0.9771525)],\n",
              " [(0, 0.010007286), (1, 0.96996963), (2, 0.010019406), (3, 0.010003668)],\n",
              " [(0, 0.032031048), (1, 0.9048761), (2, 0.031322204), (3, 0.031770635)],\n",
              "    11  17a  accounts  act  ...  transactions  treasury  violations  wells\n",
              " 0   0    0         1    0  ...             0         0           0      3\n",
              " 1   0    0         0    1  ...             1         1           2      0\n",
              " 2   1    0         0    0  ...             0         0           0      2\n",
              " 3   0    1         0    1  ...             0         0           0      3\n",
              " 4   0    0         0    0  ...             0         0           0      0\n",
              " 5   0    0         0    0  ...             0         0           0      0\n",
              " \n",
              " [6 rows x 119 columns]]"
            ]
          },
          "metadata": {
            "tags": []
          },
          "execution_count": 93
        }
      ]
    },
    {
      "cell_type": "code",
      "metadata": {
        "id": "yG37FfEJeXl5",
        "colab_type": "code",
        "colab": {
          "base_uri": "https://localhost:8080/",
          "height": 145
        },
        "outputId": "3dfb2f6c-f36c-4373-9b84-257703c4823e"
      },
      "source": [
        "cor"
      ],
      "execution_count": 91,
      "outputs": [
        {
          "output_type": "execute_result",
          "data": {
            "text/plain": [
              "[[(3, 0.9834832)],\n",
              " [(0, 0.98456216)],\n",
              " [(3, 0.9842215)],\n",
              " [(3, 0.9771524)],\n",
              " [(0, 0.010007286), (1, 0.96996963), (2, 0.010019401), (3, 0.010003668)],\n",
              " [(0, 0.0320511), (1, 0.9048536), (2, 0.031322222), (3, 0.031773098)],\n",
              " RangeIndex(start=0, stop=6, step=1)]"
            ]
          },
          "metadata": {
            "tags": []
          },
          "execution_count": 91
        }
      ]
    },
    {
      "cell_type": "code",
      "metadata": {
        "id": "OOduKnk2jSWe",
        "colab_type": "code",
        "colab": {}
      },
      "source": [
        ""
      ],
      "execution_count": 0,
      "outputs": []
    },
    {
      "cell_type": "code",
      "metadata": {
        "id": "vMyv3dlqe0FJ",
        "colab_type": "code",
        "colab": {}
      },
      "source": [
        ""
      ],
      "execution_count": 0,
      "outputs": []
    }
  ]
}