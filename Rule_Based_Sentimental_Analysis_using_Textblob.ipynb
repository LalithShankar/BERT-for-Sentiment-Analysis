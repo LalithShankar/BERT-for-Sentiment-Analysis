{
  "nbformat": 4,
  "nbformat_minor": 0,
  "metadata": {
    "colab": {
      "name": "Rule Based Sentimental Analysis using Textblob.ipynb",
      "provenance": [],
      "collapsed_sections": [],
      "authorship_tag": "ABX9TyNpUb7KMQyAoTMO7wm3JKtG",
      "include_colab_link": true
    },
    "kernelspec": {
      "name": "python3",
      "display_name": "Python 3"
    }
  },
  "cells": [
    {
      "cell_type": "markdown",
      "metadata": {
        "id": "view-in-github",
        "colab_type": "text"
      },
      "source": [
        "<a href=\"https://colab.research.google.com/github/LalithShankar/BERT-for-Sentiment-Analysis/blob/master/Rule_Based_Sentimental_Analysis_using_Textblob.ipynb\" target=\"_parent\"><img src=\"https://colab.research.google.com/assets/colab-badge.svg\" alt=\"Open In Colab\"/></a>"
      ]
    },
    {
      "cell_type": "code",
      "metadata": {
        "id": "dd9YcvbD7wc5",
        "colab_type": "code",
        "colab": {}
      },
      "source": [
        "from tika import parser\n",
        "\n",
        "raw = parser.from_file('Wells_Fargo_Advisors_Proceedings.pdf')\n",
        "text= (raw['content'])\n",
        "print(text)"
      ],
      "execution_count": 0,
      "outputs": []
    },
    {
      "cell_type": "code",
      "metadata": {
        "id": "Oa09zvEs7yDi",
        "colab_type": "code",
        "colab": {}
      },
      "source": [
        "pip install tika"
      ],
      "execution_count": 0,
      "outputs": []
    },
    {
      "cell_type": "code",
      "metadata": {
        "id": "c4wZx3uoPO3s",
        "colab_type": "code",
        "colab": {
          "base_uri": "https://localhost:8080/",
          "height": 55
        },
        "outputId": "ab3cdee5-687e-45c2-d2a1-60d4d2a5ab1f"
      },
      "source": [
        "text"
      ],
      "execution_count": 123,
      "outputs": [
        {
          "output_type": "execute_result",
          "data": {
            "text/plain": [
              "b'ADMINISTRATIVE PROCEEDING \\nFile No. 3 - 18279 \\n\\nSEC Charges Wells Fargo Advisors with Failing to Comply With Anti-Money Laundering \\nLaws \\n\\nNovember 13, 2017 - The Securities and Exchange Commission today announced that Wells \\nFargo Advisors, LLC, a registered broker-dealer located in St. Louis, Missouri, agreed to settle \\ncharges that it failed to file and timely file a number of Suspicious Activity Reports (SARs) \\nbetween approximately March 2012 and June 2013.  Most of these failures related to continuing \\nsuspicious activity occurring in accounts held at Wells Fargo Advisors\\xe2\\x80\\x99 U.S. branch offices that \\nfocused on international customers. \\n\\nTo help detect potential violations of the securities laws and other money laundering violations, \\nthe Bank Secrecy Act (BSA) requires broker-dealers to file SARs to report suspicious \\ntransactions that occur through their firms.  The BSA and the U.S. Treasury Department\\xe2\\x80\\x99s \\nFinancial Crimes Enforcement Network (FinCEN) require the filing of a SAR within 30 days \\nafter a broker-dealer determines the activity is suspicious.  For SARs identifying continuing \\nactivity of a previously-filed SAR, FinCEN provides administrative relief which allows broker-\\ndealers to file SARs for continuing activity within 120 days after the previously-related SAR \\nfiling.   \\n\\nAccording to the SEC\\xe2\\x80\\x99s order, starting in approximately March 2012, new management over \\nWells Fargo Advisors\\xe2\\x80\\x99 AML program created confusion by telling the firm\\xe2\\x80\\x99s SAR investigators \\nthat they were filing too many SARs; that continuing activity SAR reviews were not a regulatory \\nrequirement; that they were to take steps to eliminate further continuing activity reviews; and \\nthat filing a SAR required \\xe2\\x80\\x9cproof\\xe2\\x80\\x9d of illegal activity.  These statements created an environment \\nin which the SAR investigators experienced difficulty in recommending and filing SARs, \\nespecially continuing activity SARs.  Ultimately, Wells Fargo Advisors\\xe2\\x80\\x99 total SAR filings \\ndropped by approximately 60% during an 11-month period and the firm failed to file or timely \\nfile at least 50 SARs, 45 of which related to continuing activity.    \\n\\nThe SEC\\xe2\\x80\\x99s order instituting a settled administrative and cease-and-desist proceeding finds that \\nWells Fargo Advisors violated Section 17(a) of the Securities Exchange Act of 1934 and Rule \\n17a-8.  Without admitting or denying the SEC\\xe2\\x80\\x99s findings, Wells Fargo Advisors consented to a \\ncease-and-desist order, a censure, and a civil penalty of $3,500,000.  Wells Fargo Advisors also \\nvoluntarily undertakes to review and update its policies and procedures and develop and conduct \\nadditional training.  \\n\\nThe SEC\\xe2\\x80\\x99s investigation was conducted by Richard G. Stoltz, Paul Mensheha and Anne C. \\nMcKinley of the Chicago Regional Office.  The examination that led to the investigation was \\nconducted by Craig E. Carlson, Keith Frisz, David Hoffmeyer, George J. Jacobus, Paul \\nMensheha and Jennifer L. Spicher.     \\n\\nThe SEC appreciates the assistance of FinCEN and the Financial Industry Regulatory Authority. \\nSee also:  Order\\n\\n\\x0c'"
            ]
          },
          "metadata": {
            "tags": []
          },
          "execution_count": 123
        }
      ]
    },
    {
      "cell_type": "code",
      "metadata": {
        "id": "HmMowLBQPYa6",
        "colab_type": "code",
        "colab": {}
      },
      "source": [
        ""
      ],
      "execution_count": 0,
      "outputs": []
    },
    {
      "cell_type": "code",
      "metadata": {
        "id": "Ewg8FxIk8B1K",
        "colab_type": "code",
        "colab": {
          "base_uri": "https://localhost:8080/",
          "height": 55
        },
        "outputId": "ff599577-2fc2-48df-a89b-ea568424b00c"
      },
      "source": [
        "dot2spaces= text.replace('   ', '')\n",
        "dot2spaces\n"
      ],
      "execution_count": 52,
      "outputs": [
        {
          "output_type": "execute_result",
          "data": {
            "text/plain": [
              "'\\n\\n\\n\\n\\n\\n\\n\\n\\n\\n\\n\\n\\n\\n\\n\\n\\n\\n\\n\\n\\n\\n\\n\\n\\n\\n\\n\\n\\n\\n\\n\\n\\n\\n\\n\\n\\n\\n\\n\\n\\n\\n\\n\\n\\n\\n\\n\\n\\n\\nAdministrative Summary\\n\\n\\nADMINISTRATIVE PROCEEDING \\n\\nFile No. 3 - 18279 \\n\\nSEC Charges Wells Fargo Advisors with Failing to Comply With Anti-Money Laundering \\n\\nLaws \\n\\nNovember 13, 2017 - The Securities and Exchange Commission today announced that Wells \\n\\nFargo Advisors, LLC, a registered broker-dealer located in St. Louis, Missouri, agreed to settle \\n\\ncharges that it failed to file and timely file a number of Suspicious Activity Reports (SARs) \\n\\nbetween approximately March 2012 and June 2013.  Most of these failures related to continuing \\n\\nsuspicious activity occurring in accounts held at Wells Fargo Advisors’ U.S. branch offices that \\n\\nfocused on international customers. \\n\\nTo help detect potential violations of the securities laws and other money laundering violations, \\n\\nthe Bank Secrecy Act (BSA) requires broker-dealers to file SARs to report suspicious \\n\\ntransactions that occur through their firms.  The BSA and the U.S. Treasury Department’s \\n\\nFinancial Crimes Enforcement Network (FinCEN) require the filing of a SAR within 30 days \\n\\nafter a broker-dealer determines the activity is suspicious.  For SARs identifying continuing \\n\\nactivity of a previously-filed SAR, FinCEN provides administrative relief which allows broker-\\n\\ndealers to file SARs for continuing activity within 120 days after the previously-related SAR \\n\\nfiling.\\n\\nAccording to the SEC’s order, starting in approximately March 2012, new management over \\n\\nWells Fargo Advisors’ AML program created confusion by telling the firm’s SAR investigators \\n\\nthat they were filing too many SARs; that continuing activity SAR reviews were not a regulatory \\n\\nrequirement; that they were to take steps to eliminate further continuing activity reviews; and \\n\\nthat filing a SAR required “proof” of illegal activity.  These statements created an environment \\n\\nin which the SAR investigators experienced difficulty in recommending and filing SARs, \\n\\nespecially continuing activity SARs.  Ultimately, Wells Fargo Advisors’ total SAR filings \\n\\ndropped by approximately 60% during an 11-month period and the firm failed to file or timely \\n\\nfile at least 50 SARs, 45 of which related to continuing activity. \\n\\nThe SEC’s order instituting a settled administrative and cease-and-desist proceeding finds that \\n\\nWells Fargo Advisors violated Section 17(a) of the Securities Exchange Act of 1934 and Rule \\n\\n17a-8.  Without admitting or denying the SEC’s findings, Wells Fargo Advisors consented to a \\n\\ncease-and-desist order, a censure, and a civil penalty of $3,500,000.  Wells Fargo Advisors also \\n\\nvoluntarily undertakes to review and update its policies and procedures and develop and conduct \\n\\nadditional training.  \\n\\nThe SEC’s investigation was conducted by Richard G. Stoltz, Paul Mensheha and Anne C. \\n\\nMcKinley of the Chicago Regional Office.  The examination that led to the investigation was \\n\\nconducted by Craig E. Carlson, Keith Frisz, David Hoffmeyer, George J. Jacobus, Paul \\n\\nMensheha and Jennifer L. Spicher.  \\n\\nThe SEC appreciates the assistance of FinCEN and the Financial Industry Regulatory Authority. \\n\\nSee also:  Order\\n\\nhttps://www.sec.gov/litigation/admin/2017/34-82054.pdf\\n\\n'"
            ]
          },
          "metadata": {
            "tags": []
          },
          "execution_count": 52
        }
      ]
    },
    {
      "cell_type": "code",
      "metadata": {
        "id": "qtVpHLiy-xhw",
        "colab_type": "code",
        "colab": {}
      },
      "source": [
        "space2newlines = dot2spaces.split(' \\n\\n')\n",
        "space2newlines"
      ],
      "execution_count": 0,
      "outputs": []
    },
    {
      "cell_type": "code",
      "metadata": {
        "id": "NOkyJPWEEVfH",
        "colab_type": "code",
        "colab": {}
      },
      "source": [
        "import pandas as pd \n",
        "df = pd.DataFrame(space2newlines) \n",
        "df"
      ],
      "execution_count": 0,
      "outputs": []
    },
    {
      "cell_type": "code",
      "metadata": {
        "id": "2vrGEQvbErYP",
        "colab_type": "code",
        "colab": {}
      },
      "source": [
        "y = pd.Series(['\\n\\n\\n\\n\\n\\n\\n\\n\\n\\n\\n\\n\\n\\n\\n\\n\\n\\n\\n\\n\\n\\n\\n\\n\\n\\n\\n\\n\\n\\n\\n\\n\\n\\n\\n\\n\\n\\n\\n\\n\\n\\n\\n\\n\\n\\n\\n\\n\\n\\nAdministrative Summary\\n\\n\\nADMINISTRATIVE PROCEEDING',\n",
        " 'File No. 3 - 18279',\n",
        " 'SEC Charges Wells Fargo Advisors with Failing to Comply With Anti-Money Laundering',\n",
        " 'Laws',\n",
        " 'November 13, 2017 - The Securities and Exchange Commission today announced that Wells',\n",
        " 'Fargo Advisors, LLC, a registered broker-dealer located in St. Louis, Missouri, agreed to settle',\n",
        " 'charges that it failed to file and timely file a number of Suspicious Activity Reports (SARs)',\n",
        " 'between approximately March 2012 and June 2013.  Most of these failures related to continuing',\n",
        " 'suspicious activity occurring in accounts held at Wells Fargo Advisors’ U.S. branch offices that',\n",
        " 'focused on international customers.',\n",
        " 'To help detect potential violations of the securities laws and other money laundering violations,',\n",
        " 'the Bank Secrecy Act (BSA) requires broker-dealers to file SARs to report suspicious',\n",
        " 'transactions that occur through their firms.  The BSA and the U.S. Treasury Department’s',\n",
        " 'Financial Crimes Enforcement Network (FinCEN) require the filing of a SAR within 30 days',\n",
        " 'after a broker-dealer determines the activity is suspicious.  For SARs identifying continuing',\n",
        " 'activity of a previously-filed SAR, FinCEN provides administrative relief which allows broker-\\n\\ndealers to file SARs for continuing activity within 120 days after the previously-related SAR',\n",
        " 'filing.\\n\\nAccording to the SEC’s order, starting in approximately March 2012, new management over',\n",
        " 'Wells Fargo Advisors’ AML program created confusion by telling the firm’s SAR investigators',\n",
        " 'that they were filing too many SARs; that continuing activity SAR reviews were not a regulatory',\n",
        " 'requirement; that they were to take steps to eliminate further continuing activity reviews; and',\n",
        " 'that filing a SAR required “proof” of illegal activity.  These statements created an environment',\n",
        " 'in which the SAR investigators experienced difficulty in recommending and filing SARs,',\n",
        " 'especially continuing activity SARs.  Ultimately, Wells Fargo Advisors’ total SAR filings',\n",
        " 'dropped by approximately 60% during an 11-month period and the firm failed to file or timely',\n",
        " 'file at least 50 SARs, 45 of which related to continuing activity.',\n",
        " 'The SEC’s order instituting a settled administrative and cease-and-desist proceeding finds that',\n",
        " 'Wells Fargo Advisors violated Section 17(a) of the Securities Exchange Act of 1934 and Rule',\n",
        " '17a-8.  Without admitting or denying the SEC’s findings, Wells Fargo Advisors consented to a',\n",
        " 'cease-and-desist order, a censure, and a civil penalty of $3,500,000.  Wells Fargo Advisors also',\n",
        " 'voluntarily undertakes to review and update its policies and procedures and develop and conduct',\n",
        " 'additional training. ',\n",
        " 'The SEC’s investigation was conducted by Richard G. Stoltz, Paul Mensheha and Anne C.',\n",
        " 'McKinley of the Chicago Regional Office.  The examination that led to the investigation was',\n",
        " 'conducted by Craig E. Carlson, Keith Frisz, David Hoffmeyer, George J. Jacobus, Paul',\n",
        " 'Mensheha and Jennifer L. Spicher. ',\n",
        " 'The SEC appreciates the assistance of FinCEN and the Financial Industry Regulatory Authority.',\n",
        " 'See also:  Order\\n\\nhttps://www.sec.gov/litigation/admin/2017/34-82054.pdf\\n\\n']) \n",
        "print(x)"
      ],
      "execution_count": 0,
      "outputs": []
    },
    {
      "cell_type": "code",
      "metadata": {
        "id": "6qy09g1SFIsH",
        "colab_type": "code",
        "colab": {
          "base_uri": "https://localhost:8080/",
          "height": 708
        },
        "outputId": "1990f795-e8b3-484d-f569-607cea83ac24"
      },
      "source": [
        "import textblob\n",
        "from textblob import TextBlob\n",
        "pol = lambda x: TextBlob(x).sentiment.polarity\n",
        "sub = lambda x: TextBlob(x).sentiment.subjectivity\n",
        "\n",
        "print(y.apply(pol))\n"
      ],
      "execution_count": 107,
      "outputs": [
        {
          "output_type": "stream",
          "text": [
            "0     0.000000\n",
            "1     0.000000\n",
            "2    -0.100000\n",
            "3     0.000000\n",
            "4     0.000000\n",
            "5     0.000000\n",
            "6    -0.500000\n",
            "7     0.033333\n",
            "8     0.000000\n",
            "9     0.000000\n",
            "10   -0.062500\n",
            "11    0.000000\n",
            "12    0.000000\n",
            "13    0.000000\n",
            "14    0.000000\n",
            "15    0.000000\n",
            "16   -0.090909\n",
            "17   -0.200000\n",
            "18    0.500000\n",
            "19    0.000000\n",
            "20   -0.500000\n",
            "21    0.800000\n",
            "22    0.000000\n",
            "23   -0.366667\n",
            "24   -0.150000\n",
            "25   -0.100000\n",
            "26    0.000000\n",
            "27   -0.100000\n",
            "28    0.000000\n",
            "29    0.000000\n",
            "30    0.000000\n",
            "31   -0.100000\n",
            "32    0.000000\n",
            "33    0.000000\n",
            "34    0.000000\n",
            "35   -0.050000\n",
            "36    0.000000\n",
            "dtype: float64\n"
          ],
          "name": "stdout"
        }
      ]
    },
    {
      "cell_type": "code",
      "metadata": {
        "id": "lyp8TMeuKNvJ",
        "colab_type": "code",
        "colab": {
          "base_uri": "https://localhost:8080/",
          "height": 708
        },
        "outputId": "801730af-e926-4b31-e85a-2b405fea1c03"
      },
      "source": [
        "y.apply(sub)"
      ],
      "execution_count": 102,
      "outputs": [
        {
          "output_type": "execute_result",
          "data": {
            "text/plain": [
              "0     0.000000\n",
              "1     0.000000\n",
              "2     0.600000\n",
              "3     0.000000\n",
              "4     0.000000\n",
              "5     0.000000\n",
              "6     0.300000\n",
              "7     0.500000\n",
              "8     0.000000\n",
              "9     0.000000\n",
              "10    0.687500\n",
              "11    0.000000\n",
              "12    0.000000\n",
              "13    0.000000\n",
              "14    0.000000\n",
              "15    0.000000\n",
              "16    0.438636\n",
              "17    0.400000\n",
              "18    0.500000\n",
              "19    0.500000\n",
              "20    0.500000\n",
              "21    0.900000\n",
              "22    0.916667\n",
              "23    0.433333\n",
              "24    0.400000\n",
              "25    0.600000\n",
              "26    0.000000\n",
              "27    0.600000\n",
              "28    0.000000\n",
              "29    0.000000\n",
              "30    0.000000\n",
              "31    0.600000\n",
              "32    0.000000\n",
              "33    0.000000\n",
              "34    0.000000\n",
              "35    0.300000\n",
              "36    0.000000\n",
              "dtype: float64"
            ]
          },
          "metadata": {
            "tags": []
          },
          "execution_count": 102
        }
      ]
    },
    {
      "cell_type": "code",
      "metadata": {
        "id": "qEgZQhvJH6y0",
        "colab_type": "code",
        "colab": {
          "base_uri": "https://localhost:8080/",
          "height": 35
        },
        "outputId": "d1e9e8c5-0835-466e-db0c-09297101d8e5"
      },
      "source": [
        "TextBlob(text).sentiment"
      ],
      "execution_count": 90,
      "outputs": [
        {
          "output_type": "execute_result",
          "data": {
            "text/plain": [
              "Sentiment(polarity=-0.07060117302052787, subjectivity=0.5025659824046921)"
            ]
          },
          "metadata": {
            "tags": []
          },
          "execution_count": 90
        }
      ]
    },
    {
      "cell_type": "code",
      "metadata": {
        "id": "2frkcRWOCrBb",
        "colab_type": "code",
        "colab": {
          "base_uri": "https://localhost:8080/",
          "height": 72
        },
        "outputId": "948fd44b-4f40-4686-cb4c-f29fc56ab063"
      },
      "source": [
        "\n",
        "import nltk\n",
        "nltk.download('punkt')"
      ],
      "execution_count": 62,
      "outputs": [
        {
          "output_type": "stream",
          "text": [
            "[nltk_data] Downloading package punkt to /root/nltk_data...\n",
            "[nltk_data]   Unzipping tokenizers/punkt.zip.\n"
          ],
          "name": "stdout"
        },
        {
          "output_type": "execute_result",
          "data": {
            "text/plain": [
              "True"
            ]
          },
          "metadata": {
            "tags": []
          },
          "execution_count": 62
        }
      ]
    },
    {
      "cell_type": "code",
      "metadata": {
        "id": "S0fVMyPC9NCQ",
        "colab_type": "code",
        "colab": {}
      },
      "source": [
        "import nltk\n",
        "text1 = \"heloo. 9jij ok;lk kl,klnkln iojoj. hnjknkj \"\n",
        "\n",
        "# split into sentences\n",
        "from nltk import sent_tokenize\n",
        "sentences = sent_tokenize(text)\n",
        "xyz = sentences[:100]"
      ],
      "execution_count": 0,
      "outputs": []
    },
    {
      "cell_type": "code",
      "metadata": {
        "id": "6ZIAeaWC8XKR",
        "colab_type": "code",
        "colab": {}
      },
      "source": [
        "import re\n",
        "\n",
        "l = \"|\".join(map(re.escape,['.', 'St.','U.S','Mr.', 'Mrs.', 'Ms.', 'Dr.', 'Prof.', 'Rev.', 'Capt.', 'Lt.-Col.', 'Col.', 'Lt.-Cmdr.', 'The Hon.', 'Cmdr.', 'Flt. Lt.', 'Brgdr.', 'Wng. Cmdr.', 'Group Capt.' ,'Rt.', 'Maj.-Gen.', 'Rear Admrl.', 'Esq.', 'Mx', 'Adv', 'Jr.']))\n",
        "\n",
        "e=\"Dear Mr. Foo, I would like to thank you. Because Lt.-Col. Collins told me blah blah. Bye.\"\n",
        "\n",
        "def do_repl(m):\n",
        "    s = m.group(1)\n",
        "    if s==\".\":\n",
        "        rval=\"\\n\"\n",
        "      \n",
        "    else:\n",
        "        rval = s\n",
        "    return rval\n",
        "\n",
        "z = re.sub(\"(\"+l+\")\",do_repl,dot2spaces)\n",
        "# bonus: leading blanks should be stripped even that's not the question\n",
        "z= re.sub(r\"\\s*\\n\\s*\",\"\\n\",z,re.DOTALL)\n",
        "print(z)"
      ],
      "execution_count": 0,
      "outputs": []
    },
    {
      "cell_type": "code",
      "metadata": {
        "id": "5QZd3PyLMDF4",
        "colab_type": "code",
        "colab": {
          "base_uri": "https://localhost:8080/",
          "height": 201
        },
        "outputId": "f54dcf93-1230-4b3d-c4ad-e26783cc9be4"
      },
      "source": [
        "import re\n",
        "import textract\n",
        "#read the content of pdf as text\n",
        "text1 = textract.process('Wells_Fargo_Advisors_Proceedings.pdf').decode(\"utf-8\")\n",
        "#use four space as paragraph delimiter to convert the text into list of paragraphs.\n",
        "type(text1)\n",
        "x = re.split('\\s{3,}', text1)\n",
        "x"
      ],
      "execution_count": 224,
      "outputs": [
        {
          "output_type": "execute_result",
          "data": {
            "text/plain": [
              "['ADMINISTRATIVE PROCEEDING \\nFile No. 3 - 18279',\n",
              " 'SEC Charges Wells Fargo Advisors with Failing to Comply With Anti-Money Laundering \\nLaws',\n",
              " 'November 13, 2017 - The Securities and Exchange Commission today announced that Wells \\nFargo Advisors, LLC, a registered broker-dealer located in St. Louis, Missouri, agreed to settle \\ncharges that it failed to file and timely file a number of Suspicious Activity Reports (SARs) \\nbetween approximately March 2012 and June 2013.  Most of these failures related to continuing \\nsuspicious activity occurring in accounts held at Wells Fargo Advisors’ U.S. branch offices that \\nfocused on international customers.',\n",
              " 'To help detect potential violations of the securities laws and other money laundering violations, \\nthe Bank Secrecy Act (BSA) requires broker-dealers to file SARs to report suspicious \\ntransactions that occur through their firms.  The BSA and the U.S. Treasury Department’s \\nFinancial Crimes Enforcement Network (FinCEN) require the filing of a SAR within 30 days \\nafter a broker-dealer determines the activity is suspicious.  For SARs identifying continuing \\nactivity of a previously-filed SAR, FinCEN provides administrative relief which allows broker-\\ndealers to file SARs for continuing activity within 120 days after the previously-related SAR \\nfiling.',\n",
              " 'According to the SEC’s order, starting in approximately March 2012, new management over \\nWells Fargo Advisors’ AML program created confusion by telling the firm’s SAR investigators \\nthat they were filing too many SARs; that continuing activity SAR reviews were not a regulatory \\nrequirement; that they were to take steps to eliminate further continuing activity reviews; and \\nthat filing a SAR required “proof” of illegal activity.  These statements created an environment \\nin which the SAR investigators experienced difficulty in recommending and filing SARs, \\nespecially continuing activity SARs.  Ultimately, Wells Fargo Advisors’ total SAR filings \\ndropped by approximately 60% during an 11-month period and the firm failed to file or timely \\nfile at least 50 SARs, 45 of which related to continuing activity.',\n",
              " 'The SEC’s order instituting a settled administrative and cease-and-desist proceeding finds that \\nWells Fargo Advisors violated Section 17(a) of the Securities Exchange Act of 1934 and Rule \\n17a-8.  Without admitting or denying the SEC’s findings, Wells Fargo Advisors consented to a \\ncease-and-desist order, a censure, and a civil penalty of $3,500,000.  Wells Fargo Advisors also \\nvoluntarily undertakes to review and update its policies and procedures and develop and conduct \\nadditional training.',\n",
              " 'The SEC’s investigation was conducted by Richard G. Stoltz, Paul Mensheha and Anne C. \\nMcKinley of the Chicago Regional Office.  The examination that led to the investigation was \\nconducted by Craig E. Carlson, Keith Frisz, David Hoffmeyer, George J. Jacobus, Paul \\nMensheha and Jennifer L. Spicher.',\n",
              " 'The SEC appreciates the assistance of FinCEN and the Financial Industry Regulatory Authority. \\nSee also:  Order',\n",
              " '']"
            ]
          },
          "metadata": {
            "tags": []
          },
          "execution_count": 224
        }
      ]
    },
    {
      "cell_type": "code",
      "metadata": {
        "id": "HUGqFvDnhSTF",
        "colab_type": "code",
        "colab": {}
      },
      "source": [
        "print(text1)"
      ],
      "execution_count": 0,
      "outputs": []
    },
    {
      "cell_type": "code",
      "metadata": {
        "id": "9wmv1X3whvuq",
        "colab_type": "code",
        "colab": {
          "base_uri": "https://localhost:8080/",
          "height": 745
        },
        "outputId": "148dbde9-c0a1-4070-f3ab-c11c2946fd05"
      },
      "source": [
        "x1 = re.split('.\\n', text1)\n",
        "x1"
      ],
      "execution_count": 219,
      "outputs": [
        {
          "output_type": "execute_result",
          "data": {
            "text/plain": [
              "['ADMINISTRATIVE PROCEEDING',\n",
              " 'File No. 3 - 18279',\n",
              " '\\nSEC Charges Wells Fargo Advisors with Failing to Comply With Anti-Money Laundering',\n",
              " 'Laws',\n",
              " '\\nNovember 13, 2017 - The Securities and Exchange Commission today announced that Wells',\n",
              " 'Fargo Advisors, LLC, a registered broker-dealer located in St. Louis, Missouri, agreed to settle',\n",
              " 'charges that it failed to file and timely file a number of Suspicious Activity Reports (SARs)',\n",
              " 'between approximately March 2012 and June 2013.  Most of these failures related to continuing',\n",
              " 'suspicious activity occurring in accounts held at Wells Fargo Advisors’ U.S. branch offices that',\n",
              " 'focused on international customers.',\n",
              " '\\nTo help detect potential violations of the securities laws and other money laundering violations,',\n",
              " 'the Bank Secrecy Act (BSA) requires broker-dealers to file SARs to report suspicious',\n",
              " 'transactions that occur through their firms.  The BSA and the U.S. Treasury Department’s',\n",
              " 'Financial Crimes Enforcement Network (FinCEN) require the filing of a SAR within 30 days',\n",
              " 'after a broker-dealer determines the activity is suspicious.  For SARs identifying continuing',\n",
              " 'activity of a previously-filed SAR, FinCEN provides administrative relief which allows broker',\n",
              " 'dealers to file SARs for continuing activity within 120 days after the previously-related SAR',\n",
              " 'filing.  ',\n",
              " '\\nAccording to the SEC’s order, starting in approximately March 2012, new management over',\n",
              " 'Wells Fargo Advisors’ AML program created confusion by telling the firm’s SAR investigators',\n",
              " 'that they were filing too many SARs; that continuing activity SAR reviews were not a regulatory',\n",
              " 'requirement; that they were to take steps to eliminate further continuing activity reviews; and',\n",
              " 'that filing a SAR required “proof” of illegal activity.  These statements created an environment',\n",
              " 'in which the SAR investigators experienced difficulty in recommending and filing SARs,',\n",
              " 'especially continuing activity SARs.  Ultimately, Wells Fargo Advisors’ total SAR filings',\n",
              " 'dropped by approximately 60% during an 11-month period and the firm failed to file or timely',\n",
              " 'file at least 50 SARs, 45 of which related to continuing activity.   ',\n",
              " '\\nThe SEC’s order instituting a settled administrative and cease-and-desist proceeding finds that',\n",
              " 'Wells Fargo Advisors violated Section 17(a) of the Securities Exchange Act of 1934 and Rule',\n",
              " '17a-8.  Without admitting or denying the SEC’s findings, Wells Fargo Advisors consented to a',\n",
              " 'cease-and-desist order, a censure, and a civil penalty of $3,500,000.  Wells Fargo Advisors also',\n",
              " 'voluntarily undertakes to review and update its policies and procedures and develop and conduct',\n",
              " 'additional training. ',\n",
              " '\\nThe SEC’s investigation was conducted by Richard G. Stoltz, Paul Mensheha and Anne C.',\n",
              " 'McKinley of the Chicago Regional Office.  The examination that led to the investigation was',\n",
              " 'conducted by Craig E. Carlson, Keith Frisz, David Hoffmeyer, George J. Jacobus, Paul',\n",
              " 'Mensheha and Jennifer L. Spicher.    ',\n",
              " '\\nThe SEC appreciates the assistance of FinCEN and the Financial Industry Regulatory Authority.',\n",
              " 'See also:  Orde',\n",
              " '\\n\\x0c']"
            ]
          },
          "metadata": {
            "tags": []
          },
          "execution_count": 219
        }
      ]
    },
    {
      "cell_type": "code",
      "metadata": {
        "id": "WGw4aqn4ShIo",
        "colab_type": "code",
        "colab": {
          "base_uri": "https://localhost:8080/",
          "height": 745
        },
        "outputId": "dce772a8-db40-4318-910f-5172ab1e4ec5"
      },
      "source": [
        "def listtostring(s):\n",
        "  str1 = \"\\n\"\n",
        "  return (str1.join(s))\n",
        "l2s= listtostring(x)\n",
        "l2s\n",
        "print(l2s)\n"
      ],
      "execution_count": 208,
      "outputs": [
        {
          "output_type": "stream",
          "text": [
            "ADMINISTRATIVE PROCEEDING \n",
            "File No. 3 - 18279\n",
            "SEC Charges Wells Fargo Advisors with Failing to Comply With Anti-Money Laundering \n",
            "Laws\n",
            "November 13, 2017 - The Securities and Exchange Commission today announced that Wells \n",
            "Fargo Advisors, LLC, a registered broker-dealer located in St. Louis, Missouri, agreed to settle \n",
            "charges that it failed to file and timely file a number of Suspicious Activity Reports (SARs) \n",
            "between approximately March 2012 and June 2013.  Most of these failures related to continuing \n",
            "suspicious activity occurring in accounts held at Wells Fargo Advisors’ U.S. branch offices that \n",
            "focused on international customers.\n",
            "To help detect potential violations of the securities laws and other money laundering violations, \n",
            "the Bank Secrecy Act (BSA) requires broker-dealers to file SARs to report suspicious \n",
            "transactions that occur through their firms.  The BSA and the U.S. Treasury Department’s \n",
            "Financial Crimes Enforcement Network (FinCEN) require the filing of a SAR within 30 days \n",
            "after a broker-dealer determines the activity is suspicious.  For SARs identifying continuing \n",
            "activity of a previously-filed SAR, FinCEN provides administrative relief which allows broker-\n",
            "dealers to file SARs for continuing activity within 120 days after the previously-related SAR \n",
            "filing.\n",
            "According to the SEC’s order, starting in approximately March 2012, new management over \n",
            "Wells Fargo Advisors’ AML program created confusion by telling the firm’s SAR investigators \n",
            "that they were filing too many SARs; that continuing activity SAR reviews were not a regulatory \n",
            "requirement; that they were to take steps to eliminate further continuing activity reviews; and \n",
            "that filing a SAR required “proof” of illegal activity.  These statements created an environment \n",
            "in which the SAR investigators experienced difficulty in recommending and filing SARs, \n",
            "especially continuing activity SARs.  Ultimately, Wells Fargo Advisors’ total SAR filings \n",
            "dropped by approximately 60% during an 11-month period and the firm failed to file or timely \n",
            "file at least 50 SARs, 45 of which related to continuing activity.\n",
            "The SEC’s order instituting a settled administrative and cease-and-desist proceeding finds that \n",
            "Wells Fargo Advisors violated Section 17(a) of the Securities Exchange Act of 1934 and Rule \n",
            "17a-8.  Without admitting or denying the SEC’s findings, Wells Fargo Advisors consented to a \n",
            "cease-and-desist order, a censure, and a civil penalty of $3,500,000.  Wells Fargo Advisors also \n",
            "voluntarily undertakes to review and update its policies and procedures and develop and conduct \n",
            "additional training.\n",
            "The SEC’s investigation was conducted by Richard G. Stoltz, Paul Mensheha and Anne C. \n",
            "McKinley of the Chicago Regional Office.  The examination that led to the investigation was \n",
            "conducted by Craig E. Carlson, Keith Frisz, David Hoffmeyer, George J. Jacobus, Paul \n",
            "Mensheha and Jennifer L. Spicher.\n",
            "The SEC appreciates the assistance of FinCEN and the Financial Industry Regulatory Authority. \n",
            "See also:  Order\n",
            "\n"
          ],
          "name": "stdout"
        }
      ]
    },
    {
      "cell_type": "code",
      "metadata": {
        "id": "w2SWin_6YFk3",
        "colab_type": "code",
        "colab": {
          "base_uri": "https://localhost:8080/",
          "height": 201
        },
        "outputId": "8ea70aaf-dfaa-440f-ac8b-4940bd928e70"
      },
      "source": [
        "finallist = l2s.split('.\\n')\n",
        "finallist"
      ],
      "execution_count": 205,
      "outputs": [
        {
          "output_type": "execute_result",
          "data": {
            "text/plain": [
              "['ADMINISTRATIVE PROCEEDING \\nFile No. 3 - 18279',\n",
              " 'SEC Charges Wells Fargo Advisors with Failing to Comply With Anti-Money Laundering \\nLaws',\n",
              " 'November 13, 2017 - The Securities and Exchange Commission today announced that Wells \\nFargo Advisors, LLC, a registered broker-dealer located in St. Louis, Missouri, agreed to settle \\ncharges that it failed to file and timely file a number of Suspicious Activity Reports (SARs) \\nbetween approximately March 2012 and June 2013.  Most of these failures related to continuing \\nsuspicious activity occurring in accounts held at Wells Fargo Advisors’ U.S. branch offices that \\nfocused on international customers.',\n",
              " 'To help detect potential violations of the securities laws and other money laundering violations, \\nthe Bank Secrecy Act (BSA) requires broker-dealers to file SARs to report suspicious \\ntransactions that occur through their firms.  The BSA and the U.S. Treasury Department’s \\nFinancial Crimes Enforcement Network (FinCEN) require the filing of a SAR within 30 days \\nafter a broker-dealer determines the activity is suspicious.  For SARs identifying continuing \\nactivity of a previously-filed SAR, FinCEN provides administrative relief which allows broker-\\ndealers to file SARs for continuing activity within 120 days after the previously-related SAR \\nfiling.',\n",
              " 'According to the SEC’s order, starting in approximately March 2012, new management over \\nWells Fargo Advisors’ AML program created confusion by telling the firm’s SAR investigators \\nthat they were filing too many SARs; that continuing activity SAR reviews were not a regulatory \\nrequirement; that they were to take steps to eliminate further continuing activity reviews; and \\nthat filing a SAR required “proof” of illegal activity.  These statements created an environment \\nin which the SAR investigators experienced difficulty in recommending and filing SARs, \\nespecially continuing activity SARs.  Ultimately, Wells Fargo Advisors’ total SAR filings \\ndropped by approximately 60% during an 11-month period and the firm failed to file or timely \\nfile at least 50 SARs, 45 of which related to continuing activity.',\n",
              " 'The SEC’s order instituting a settled administrative and cease-and-desist proceeding finds that \\nWells Fargo Advisors violated Section 17(a) of the Securities Exchange Act of 1934 and Rule \\n17a-8.  Without admitting or denying the SEC’s findings, Wells Fargo Advisors consented to a \\ncease-and-desist order, a censure, and a civil penalty of $3,500,000.  Wells Fargo Advisors also \\nvoluntarily undertakes to review and update its policies and procedures and develop and conduct \\nadditional training.',\n",
              " 'The SEC’s investigation was conducted by Richard G. Stoltz, Paul Mensheha and Anne C. \\nMcKinley of the Chicago Regional Office.  The examination that led to the investigation was \\nconducted by Craig E. Carlson, Keith Frisz, David Hoffmeyer, George J. Jacobus, Paul \\nMensheha and Jennifer L. Spicher.',\n",
              " 'The SEC appreciates the assistance of FinCEN and the Financial Industry Regulatory Authority. \\nSee also:  Order',\n",
              " '']"
            ]
          },
          "metadata": {
            "tags": []
          },
          "execution_count": 205
        }
      ]
    },
    {
      "cell_type": "code",
      "metadata": {
        "id": "OCnPl0ABY0lv",
        "colab_type": "code",
        "colab": {}
      },
      "source": [
        "df = pd.DataFrame(finallist)"
      ],
      "execution_count": 0,
      "outputs": []
    },
    {
      "cell_type": "code",
      "metadata": {
        "id": "mveImxA4ZW7e",
        "colab_type": "code",
        "colab": {
          "base_uri": "https://localhost:8080/",
          "height": 145
        },
        "outputId": "dca8ca59-214a-453a-9e59-bac87d1bafa6"
      },
      "source": [
        "finalseries = pd.Series(finallist)\n",
        "finalseries"
      ],
      "execution_count": 154,
      "outputs": [
        {
          "output_type": "execute_result",
          "data": {
            "text/plain": [
              "0    ADMINISTRATIVE PROCEEDING \\nFile No. 3 - 18279...\n",
              "1    To help detect potential violations of the sec...\n",
              "2    According to the SEC’s order, starting in appr...\n",
              "3    The SEC’s order instituting a settled administ...\n",
              "4    The SEC’s investigation was conducted by Richa...\n",
              "5    The SEC appreciates the assistance of FinCEN a...\n",
              "dtype: object"
            ]
          },
          "metadata": {
            "tags": []
          },
          "execution_count": 154
        }
      ]
    },
    {
      "cell_type": "code",
      "metadata": {
        "id": "GOdj7H-ZN9WN",
        "colab_type": "code",
        "colab": {
          "base_uri": "https://localhost:8080/",
          "height": 35
        },
        "outputId": "1d759828-19fb-462b-fc3b-0304b65a2a16"
      },
      "source": [
        "polarity = finalseries.apply(pol)\n",
        "type(polarity)\n",
        "subject = finalseries.apply(sub)\n",
        "type(subject)"
      ],
      "execution_count": 170,
      "outputs": [
        {
          "output_type": "execute_result",
          "data": {
            "text/plain": [
              "pandas.core.series.Series"
            ]
          },
          "metadata": {
            "tags": []
          },
          "execution_count": 170
        }
      ]
    },
    {
      "cell_type": "code",
      "metadata": {
        "id": "eye17g2AMDN5",
        "colab_type": "code",
        "colab": {
          "base_uri": "https://localhost:8080/",
          "height": 228
        },
        "outputId": "1bb8a53b-08ea-4321-caeb-6f2d5eb363ea"
      },
      "source": [
        "frame = {'Data':[finallist]}\n",
        "dataframe = pd.DataFrame(zip(finallist,polarity,subject),columns=['Data','Polarity','Subjectivity'])\n",
        "\n",
        "dataframe"
      ],
      "execution_count": 181,
      "outputs": [
        {
          "output_type": "execute_result",
          "data": {
            "text/html": [
              "<div>\n",
              "<style scoped>\n",
              "    .dataframe tbody tr th:only-of-type {\n",
              "        vertical-align: middle;\n",
              "    }\n",
              "\n",
              "    .dataframe tbody tr th {\n",
              "        vertical-align: top;\n",
              "    }\n",
              "\n",
              "    .dataframe thead th {\n",
              "        text-align: right;\n",
              "    }\n",
              "</style>\n",
              "<table border=\"1\" class=\"dataframe\">\n",
              "  <thead>\n",
              "    <tr style=\"text-align: right;\">\n",
              "      <th></th>\n",
              "      <th>Data</th>\n",
              "      <th>Polarity</th>\n",
              "      <th>Subjectivity</th>\n",
              "    </tr>\n",
              "  </thead>\n",
              "  <tbody>\n",
              "    <tr>\n",
              "      <th>0</th>\n",
              "      <td>ADMINISTRATIVE PROCEEDING \\nFile No. 3 - 18279...</td>\n",
              "      <td>-0.083333</td>\n",
              "      <td>0.400000</td>\n",
              "    </tr>\n",
              "    <tr>\n",
              "      <th>1</th>\n",
              "      <td>To help detect potential violations of the sec...</td>\n",
              "      <td>-0.041667</td>\n",
              "      <td>0.458333</td>\n",
              "    </tr>\n",
              "    <tr>\n",
              "      <th>2</th>\n",
              "      <td>According to the SEC’s order, starting in appr...</td>\n",
              "      <td>-0.068449</td>\n",
              "      <td>0.553209</td>\n",
              "    </tr>\n",
              "    <tr>\n",
              "      <th>3</th>\n",
              "      <td>The SEC’s order instituting a settled administ...</td>\n",
              "      <td>-0.100000</td>\n",
              "      <td>0.600000</td>\n",
              "    </tr>\n",
              "    <tr>\n",
              "      <th>4</th>\n",
              "      <td>The SEC’s investigation was conducted by Richa...</td>\n",
              "      <td>-0.100000</td>\n",
              "      <td>0.600000</td>\n",
              "    </tr>\n",
              "    <tr>\n",
              "      <th>5</th>\n",
              "      <td>The SEC appreciates the assistance of FinCEN a...</td>\n",
              "      <td>-0.050000</td>\n",
              "      <td>0.300000</td>\n",
              "    </tr>\n",
              "  </tbody>\n",
              "</table>\n",
              "</div>"
            ],
            "text/plain": [
              "                                                Data  Polarity  Subjectivity\n",
              "0  ADMINISTRATIVE PROCEEDING \\nFile No. 3 - 18279... -0.083333      0.400000\n",
              "1  To help detect potential violations of the sec... -0.041667      0.458333\n",
              "2  According to the SEC’s order, starting in appr... -0.068449      0.553209\n",
              "3  The SEC’s order instituting a settled administ... -0.100000      0.600000\n",
              "4  The SEC’s investigation was conducted by Richa... -0.100000      0.600000\n",
              "5  The SEC appreciates the assistance of FinCEN a... -0.050000      0.300000"
            ]
          },
          "metadata": {
            "tags": []
          },
          "execution_count": 181
        }
      ]
    },
    {
      "cell_type": "code",
      "metadata": {
        "id": "DDQ32ILKD4wI",
        "colab_type": "code",
        "colab": {
          "base_uri": "https://localhost:8080/",
          "height": 35
        },
        "outputId": "e83cff83-1230-43d2-abe1-2b80fc7487bf"
      },
      "source": [
        ""
      ],
      "execution_count": 66,
      "outputs": [
        {
          "output_type": "execute_result",
          "data": {
            "text/plain": [
              "str"
            ]
          },
          "metadata": {
            "tags": []
          },
          "execution_count": 66
        }
      ]
    }
  ]
}